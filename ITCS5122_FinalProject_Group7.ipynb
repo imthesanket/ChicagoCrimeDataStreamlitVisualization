{
  "cells": [
    {
      "cell_type": "code",
      "execution_count": null,
      "metadata": {
        "id": "GanJ5LqJVk58"
      },
      "outputs": [],
      "source": [
        "!pip install streamlit\n",
        "!pip install pandas\n",
        "!pip install altair\n",
        "!pip install numpy\n",
        "!pip install matplotlib\n",
        "!pip install vega_datasets\n",
        "!pip install pydeck\n",
        "!pip install xlrd==2.0.1 \n",
        "!pip install plotly"
      ]
    },
    {
      "cell_type": "code",
      "execution_count": 4,
      "metadata": {
        "colab": {
          "base_uri": "https://localhost:8080/"
        },
        "id": "Gke6XXCZWM6x",
        "outputId": "6cc7394a-13f5-4b57-ff43-3d2557a1c518"
      },
      "outputs": [
        {
          "output_type": "stream",
          "name": "stdout",
          "text": [
            "Mounted at /content/drive\n"
          ]
        }
      ],
      "source": [
        "# Loading the dataset from drive to colab\n",
        "from google.colab import drive\n",
        "drive.mount('/content/drive')"
      ]
    },
    {
      "cell_type": "code",
      "execution_count": 7,
      "metadata": {
        "colab": {
          "base_uri": "https://localhost:8080/"
        },
        "id": "UKNvNvmuQRVm",
        "outputId": "7211e63b-3676-4e5d-ec00-4a769539ef06"
      },
      "outputs": [
        {
          "output_type": "stream",
          "name": "stdout",
          "text": [
            "Overwriting app.py\n"
          ]
        }
      ],
      "source": [
        "%%writefile app.py\n",
        "\n",
        "import streamlit as st\n",
        "import pandas as pd\n",
        "import altair as alt\n",
        "import numpy as np\n",
        "import matplotlib.pyplot as plt\n",
        "from vega_datasets import data\n",
        "import pydeck as pdk\n",
        "import xlrd\n",
        "import plotly.express as px\n",
        "\n",
        "option = st.sidebar.radio( \"Select the dashboard\", ('Total Number of Incidents Per Ward', 'Total Number of Incidents Per District', 'Total Number of Incidents Per Community Area', 'Map Visualization - Number of crimes at a given time of a day', 'Map Visualization - Locations with most theft/burglaries'))\n",
        "\n",
        "@st.cache(persist=True)\n",
        "def load_data():\n",
        "    data =  pd.read_csv(\"drive/My Drive/Crimes_dataset.csv\", nrows=100000)\n",
        "    # data =  pd.read_csv(\"drive/My Drive/Crimes_dataset.csv\")\n",
        "    data.dropna(subset=['Latitude','Longitude'],inplace=True)\n",
        "    data['time'] = pd.to_datetime(data['Date'].astype(str)).dt.hour\n",
        "    data['date']=[d.date() for d in pd.to_datetime(data['Date'].astype(str))]\n",
        "    data['day']=[d.day_name() for d in pd.to_datetime(data['Date'].astype(str))]\n",
        "   \n",
        "    data.dropna(subset=['Latitude','Longitude'],inplace=True)\n",
        "    data.drop(columns=['Date'],inplace=True)\n",
        "    lowercase=lambda x: str(x).lower()\n",
        "    data.rename(lowercase,axis=\"columns\",inplace=True)\n",
        "    return data\n",
        "\n",
        "if option == 'Total Number of Incidents Per Ward':\n",
        "  data =  pd.read_csv(\"drive/My Drive/Crimes_dataset.csv\")\n",
        "  data=data.dropna()\n",
        "  data.head()\n",
        "  data[['District', 'Ward','Community Area']] = data[['District', 'Ward','Community Area']].astype('int')\n",
        "  data[['District', 'Ward','Community Area']] = data[['District', 'Ward','Community Area']].astype('str')\n",
        "  data.columns= data.columns.str.strip().str.lower().str.replace(' ','_')\n",
        "  WardData = pd.DataFrame(data['ward'].value_counts(ascending=True).astype(float))\n",
        "  WardData = WardData.reset_index()\n",
        "  WardData.columns = ['ward', 'Crime_Count']\n",
        "  \n",
        "  bar_chart1=alt.Chart(WardData,title='Total Number of Incidents Per Ward').mark_bar().encode(\n",
        "\n",
        "     x=alt.X('ward:N', title='ward'),\n",
        "    y=alt.Y('Crime_Count:Q', title='Crime_Count'),\n",
        "  ).properties(\n",
        "             width=800, height=600\n",
        "  )\n",
        "  st.write(bar_chart1)\n",
        "\n",
        "elif option == 'Total Number of Incidents Per District':\n",
        "  data = pd.read_csv('drive/My Drive/Crimes_dataset.csv')\n",
        "  data=data.dropna()\n",
        "  data.head()\n",
        "  data[['District', 'Ward','Community Area']] = data[['District', 'Ward','Community Area']].astype('int')\n",
        "  data[['District', 'Ward','Community Area']] = data[['District', 'Ward','Community Area']].astype('str')\n",
        "  data.columns= data.columns.str.strip().str.lower().str.replace(' ','_')\n",
        "  DisData = pd.DataFrame(data['district'].value_counts(ascending=True).astype(float))\n",
        "  DisData = DisData.reset_index()\n",
        "\n",
        "\n",
        "  DisData.columns = ['district', 'Crime_Count']\n",
        "\n",
        "  bar_chart2=alt.Chart(DisData,title='Total Number of Incidents Per District').mark_bar().encode(\n",
        "\n",
        "     x=alt.X('district:N', title='district'),\n",
        "    y=alt.Y('Crime_Count:Q', title='Crime_Count'),\n",
        "  ).properties(\n",
        "             width=700, height=500\n",
        "  )\n",
        "  st.write(bar_chart2)\n",
        "\n",
        "elif option == 'Total Number of Incidents Per Community Area':\n",
        "\n",
        "  data = pd.read_csv('drive/My Drive/Crimes_dataset.csv', nrows= 100000)\n",
        "  # alt.data_transformers.disable_max_rows()\n",
        "  data2 = data[data[\"Primary Type\"].isin(['THEFT', 'BATTERY', 'CRIMINAL DAMAGE'])]\n",
        "  select = alt.selection(type='interval')\n",
        "  values = alt.Chart(data2).mark_point().encode(\n",
        "      x='Year:N',\n",
        "      y='Community Area:Q',\n",
        "      color=alt.condition(select, 'Primary Type:N', alt.value('lightgray'))\n",
        "  ).add_selection(\n",
        "      select\n",
        "  )\n",
        "  bars = alt.Chart(data2).mark_bar().encode(\n",
        "      y='Primary Type:N',\n",
        "      color='Primary Type:N',\n",
        "      x='count(Primary Type):Q'\n",
        "  ).transform_filter(\n",
        "      select\n",
        "  )\n",
        "  layered = alt.Chart(data2).mark_bar(opacity=0.7).encode(\n",
        "      x='Year:O',\n",
        "      y=alt.Y('Community Area:Q', stack=None),\n",
        "      color=\"Primary Type\",\n",
        "  )\n",
        "\n",
        "  st.write(values | bars)\n",
        "  # st.write()\n",
        "  st.write(layered)\n",
        "\n",
        "elif option == 'Map Visualization - Number of crimes at a given time of a day':\n",
        "  data=load_data()\n",
        "  st.header(\"Number of crimes at a given time of a day\")\n",
        "  hour_slider_one=st.slider(\"Select hour for specific time visualization\",0,23)\n",
        "  hour_slider_one\n",
        "  original_data=data\n",
        "  data=data[data[\"time\"]==hour_slider_one]\n",
        "  midpoint=(np.average(data['latitude']),np.average(data['longitude']))\n",
        "  st.markdown(\"Crime visualization depending on location\")\n",
        "\n",
        "  st.write(pdk.Deck(\n",
        "      map_style=\"mapbox://styles/mapbox/light-v10\",\n",
        "      initial_view_state={\n",
        "          \"latitude\":midpoint[0],\n",
        "          \"longitude\":midpoint[1],\n",
        "          \"zoom\":11,\n",
        "          \"pitch\":30,\n",
        "      },\n",
        "      layers=[\n",
        "          pdk.Layer(\n",
        "          \"HexagonLayer\",\n",
        "          data=data[['time','latitude','longitude']],\n",
        "          get_position=[\"longitude\",\"latitude\"],\n",
        "          auto_highlight=True,\n",
        "          radius=100,\n",
        "          extruded=True,\n",
        "          pickable=True,\n",
        "          elevation_scale=4,\n",
        "          elevation_range=[0,1000],\n",
        "          ),\n",
        "      ],\n",
        "  ))\n",
        "\n",
        "\n",
        "elif option == 'Map Visualization - Locations with most theft/burglaries':\n",
        "  data=load_data()\n",
        "  st.header(\"Locations with most theft/burglaries\")\n",
        "  hour_slider_two=st.slider(\"Select hour for specific time visualization\",0,23)\n",
        "  hour_slider_two\n",
        "  data_two=data[data[\"primary type\"]==\"THEFT\"]\n",
        "  data_three=data_two[data_two[\"time\"]==hour_slider_two]\n",
        "  midpoint=(np.average(data_three['latitude']),np.average(data_three['longitude']))\n",
        "  st.markdown(\"Theft visualization depending on location\")\n",
        "\n",
        "  st.write(pdk.Deck(\n",
        "      map_style=\"mapbox://styles/mapbox/light-v10\",\n",
        "      initial_view_state={\n",
        "          \"latitude\":midpoint[0],\n",
        "          \"longitude\":midpoint[1],\n",
        "          \"zoom\":11,\n",
        "          \"pitch\":30,\n",
        "      },\n",
        "      layers=[\n",
        "          pdk.Layer(\n",
        "          \"HexagonLayer\",\n",
        "          data=data_three[['time','latitude','longitude']],\n",
        "          get_position=[\"longitude\",\"latitude\"],\n",
        "          auto_highlight=True,\n",
        "          radius=100,\n",
        "          extruded=True,\n",
        "          pickable=True,\n",
        "                    elevation_scale=4,\n",
        "          elevation_range=[0,1000],\n",
        "          ),\n",
        "      ],\n",
        "  ))"
      ]
    },
    {
      "cell_type": "code",
      "execution_count": null,
      "metadata": {
        "colab": {
          "base_uri": "https://localhost:8080/"
        },
        "id": "OyQ99tJCU5rI",
        "outputId": "c6d5a09a-aeb4-4122-b613-1f2b33fbe6f3"
      },
      "outputs": [
        {
          "output_type": "stream",
          "name": "stdout",
          "text": [
            "2022-04-29 02:25:49.045 INFO    numexpr.utils: NumExpr defaulting to 2 threads.\n",
            "\u001b[K\u001b[?25hnpx: installed 22 in 3.412s\n",
            "your url is: https://pretty-falcon-50.loca.lt\n",
            "\u001b[0m\n",
            "\u001b[34m\u001b[1m  You can now view your Streamlit app in your browser.\u001b[0m\n",
            "\u001b[0m\n",
            "\u001b[34m  Network URL: \u001b[0m\u001b[1mhttp://172.28.0.2:8501\u001b[0m\n",
            "\u001b[34m  External URL: \u001b[0m\u001b[1mhttp://34.74.193.174:8501\u001b[0m\n",
            "\u001b[0m\n"
          ]
        }
      ],
      "source": [
        "!streamlit run app.py & npx localtunnel --port 8501"
      ]
    }
  ],
  "metadata": {
    "colab": {
      "collapsed_sections": [],
      "name": "ITCS5122-FinalProject-Group7.ipynb",
      "provenance": []
    },
    "kernelspec": {
      "display_name": "Python 3",
      "name": "python3"
    },
    "language_info": {
      "name": "python"
    }
  },
  "nbformat": 4,
  "nbformat_minor": 0
}